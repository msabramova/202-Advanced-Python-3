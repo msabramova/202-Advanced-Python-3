{
 "cells": [
  {
   "cell_type": "code",
   "execution_count": 1,
   "id": "3fd4c497",
   "metadata": {},
   "outputs": [],
   "source": [
    "import sympy as sp"
   ]
  },
  {
   "cell_type": "code",
   "execution_count": 2,
   "id": "9eb38f1b",
   "metadata": {},
   "outputs": [],
   "source": [
    "with open(\"test.tex\") as f:\n",
    "    doc = f.read()"
   ]
  },
  {
   "cell_type": "code",
   "execution_count": 3,
   "id": "d67fbbcb",
   "metadata": {},
   "outputs": [],
   "source": [
    "funcs = []\n",
    "\n",
    "def parse_equation(text):\n",
    "    formula = ''.join(text.split())\n",
    "    \n",
    "    if formula.find(\"=\") == -1:\n",
    "        return [sp.sympify(formula)]\n",
    "   \n",
    "    idx = formula.find(\"=\")\n",
    "    return [sp.sympify(formula[:idx]), sp.sympify(formula[idx + 1:])]"
   ]
  },
  {
   "cell_type": "code",
   "execution_count": 4,
   "id": "4989be6a",
   "metadata": {},
   "outputs": [],
   "source": [
    "text = doc\n",
    "\n",
    "begin = \"begin{equation}\"\n",
    "end = \"\\end{equation}\"\n",
    "\n",
    "while text.find(begin) != -1:\n",
    "    start = text.find(begin) + len(begin)\n",
    "    l = text[start:].find(end)\n",
    "    \n",
    "    funcs += parse_equation(text[start: start + l])\n",
    "\n",
    "    text = text[start + l + len(end):]"
   ]
  },
  {
   "cell_type": "code",
   "execution_count": 5,
   "id": "006d61cb",
   "metadata": {},
   "outputs": [],
   "source": [
    "text = doc\n",
    "\n",
    "sub = \"$\"\n",
    "while text.find(sub) != -1:\n",
    "    if text[text.find(sub):].startswith(\"$$\"):\n",
    "        sub = \"$$\"\n",
    "    \n",
    "    start = text.find(sub) + len(sub)\n",
    "    l = text[start:].find(sub)\n",
    "    \n",
    "    funcs += parse_equation(text[start: start + l])\n",
    "\n",
    "    text = text[start + l + len(sub):]\n",
    "    sub = \"$\""
   ]
  },
  {
   "cell_type": "code",
   "execution_count": 6,
   "id": "fbe3ca7c",
   "metadata": {},
   "outputs": [
    {
     "name": "stdout",
     "output_type": "stream",
     "text": [
      "0\n",
      "-c**4*m**2 - c**2*(A*e/c + p)**2 + (H + e)**2\n",
      "y\n",
      "a*x + b\n",
      "q\n",
      "-e**2*r + e*w + 1000\n"
     ]
    }
   ],
   "source": [
    "print(*[func for func in funcs], sep=\"\\n\")"
   ]
  }
 ],
 "metadata": {
  "kernelspec": {
   "display_name": "Python 3 (ipykernel)",
   "language": "python",
   "name": "python3"
  },
  "language_info": {
   "codemirror_mode": {
    "name": "ipython",
    "version": 3
   },
   "file_extension": ".py",
   "mimetype": "text/x-python",
   "name": "python",
   "nbconvert_exporter": "python",
   "pygments_lexer": "ipython3",
   "version": "3.9.7"
  }
 },
 "nbformat": 4,
 "nbformat_minor": 5
}
